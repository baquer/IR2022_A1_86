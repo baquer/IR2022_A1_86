{
  "cells": [
    {
      "cell_type": "code",
      "execution_count": null,
      "metadata": {
        "colab": {
          "base_uri": "https://localhost:8080/"
        },
        "id": "VRf94j_F0JTJ",
        "outputId": "49114139-19cf-414f-8f87-062e51d3a535"
      },
      "outputs": [
        {
          "output_type": "stream",
          "name": "stdout",
          "text": [
            "[nltk_data] Downloading package stopwords to /root/nltk_data...\n",
            "[nltk_data]   Package stopwords is already up-to-date!\n"
          ]
        },
        {
          "output_type": "execute_result",
          "data": {
            "text/plain": [
              "True"
            ]
          },
          "metadata": {},
          "execution_count": 73
        }
      ],
      "source": [
        "import nltk\n",
        "import pandas as pd\n",
        "import os\n",
        "from collections import Counter\n",
        "from nltk.corpus import stopwords \n",
        "from nltk.stem.porter import PorterStemmer\n",
        "from nltk import wordpunct_tokenize,RegexpTokenizer\n",
        "from nltk.stem import WordNetLemmatizer\n",
        "import re as regex\n",
        "import numpy as np\n",
        "import glob\n",
        "from natsort import natsorted\n",
        "import string\n",
        "from nltk.corpus import stopwords\n",
        "from nltk.stem import PorterStemmer\n",
        "from nltk.tokenize import TweetTokenizer\n",
        "from natsort import natsorted\n",
        "import string\n",
        "nltk.download('stopwords')"
      ]
    },
    {
      "cell_type": "code",
      "source": [
        "nltk.download('wordnet')\n"
      ],
      "metadata": {
        "colab": {
          "base_uri": "https://localhost:8080/"
        },
        "id": "mLccYoRDyigp",
        "outputId": "e6f922ad-bd21-4a27-aa9b-f545bf01104c"
      },
      "execution_count": null,
      "outputs": [
        {
          "output_type": "stream",
          "name": "stdout",
          "text": [
            "[nltk_data] Downloading package wordnet to /root/nltk_data...\n",
            "[nltk_data]   Package wordnet is already up-to-date!\n"
          ]
        },
        {
          "output_type": "execute_result",
          "data": {
            "text/plain": [
              "True"
            ]
          },
          "metadata": {},
          "execution_count": 74
        }
      ]
    },
    {
      "cell_type": "code",
      "execution_count": null,
      "metadata": {
        "colab": {
          "base_uri": "https://localhost:8080/"
        },
        "id": "l-5lohk-0lY8",
        "outputId": "83a8620f-2b0c-45d0-e9d4-bec5b57c0057"
      },
      "outputs": [
        {
          "output_type": "stream",
          "name": "stdout",
          "text": [
            "Drive already mounted at /content/drive/; to attempt to forcibly remount, call drive.mount(\"/content/drive/\", force_remount=True).\n"
          ]
        }
      ],
      "source": [
        "from google.colab import drive\n",
        "drive.mount('/content/drive/')"
      ]
    },
    {
      "cell_type": "code",
      "execution_count": null,
      "metadata": {
        "id": "A4jdIK6d0wGs"
      },
      "outputs": [],
      "source": [
        "import os\n",
        "path ='/content/drive/MyDrive/Assignment-1-IR-F'\n",
        "os.chdir(path)"
      ]
    },
    {
      "cell_type": "code",
      "execution_count": null,
      "metadata": {
        "id": "iTTkvq3C09c3"
      },
      "outputs": [],
      "source": [
        "def lower_case(text):\n",
        "    lower_case_text = text.lower()\n",
        "    return lower_case_text"
      ]
    },
    {
      "cell_type": "code",
      "execution_count": null,
      "metadata": {
        "id": "LRUj2d4s1Awe"
      },
      "outputs": [],
      "source": [
        "def tokenize(text):\n",
        "  tokenizer = TweetTokenizer()\n",
        "  token_list = tokenizer.tokenize(text)\n",
        "  return token_list"
      ]
    },
    {
      "cell_type": "code",
      "execution_count": null,
      "metadata": {
        "id": "Ab9sbY1C1ED2"
      },
      "outputs": [],
      "source": [
        "def stop_word(text):\n",
        "  sentence = []\n",
        "  stop_words = set(stopwords.words(\"english\"))\n",
        "  for w in text:\n",
        "        if w not in stop_words:\n",
        "            sentence.append(w)\n",
        "        else:\n",
        "          continue\n",
        "  return sentence"
      ]
    },
    {
      "cell_type": "code",
      "execution_count": null,
      "metadata": {
        "id": "lAaeLV1d1IhT"
      },
      "outputs": [],
      "source": [
        "def remove_punc(text):\n",
        "  punc_tokenizer = nltk.RegexpTokenizer(r\"\\w+\")\n",
        "  text = punc_tokenizer.tokenize(text)\n",
        "  return text"
      ]
    },
    {
      "cell_type": "code",
      "execution_count": null,
      "metadata": {
        "id": "95mmXH8u1NAT"
      },
      "outputs": [],
      "source": [
        "def tokenizeReg(text):\n",
        "    tok=RegexpTokenizer('[A-Za-z0-9]?\\w+')\n",
        "    return tok.tokenize(text)\n",
        "  "
      ]
    },
    {
      "cell_type": "code",
      "execution_count": null,
      "metadata": {
        "id": "NVZA4S3f1RQd"
      },
      "outputs": [],
      "source": [
        "def remove_blank(text):\n",
        "  text = regex.sub(text)\n",
        "  return text"
      ]
    },
    {
      "cell_type": "code",
      "execution_count": null,
      "metadata": {
        "id": "VVeugcd51Uc6"
      },
      "outputs": [],
      "source": [
        "def make_string(list):\n",
        "  text = \"\"\n",
        "  for i in range(0,len(list)):\n",
        "    text += (list[i])\n",
        "  return text "
      ]
    },
    {
      "cell_type": "code",
      "execution_count": null,
      "metadata": {
        "id": "1FT3tAQs1YSM"
      },
      "outputs": [],
      "source": [
        "def lemmatization(file):\n",
        "  lemmatizer = WordNetLemmatizer()\n",
        "  for i in range(0,len(file)):\n",
        "    lemma = lemmatizer.lemmatize(file[i])\n",
        "    file[i] = lemma\n",
        "  return file  "
      ]
    },
    {
      "cell_type": "code",
      "execution_count": null,
      "metadata": {
        "id": "m-63CHK31bBl"
      },
      "outputs": [],
      "source": [
        "def wordStemming(file):\n",
        "  stemmer = PorterStemmer()\n",
        "  for i in range(0,len(file)):\n",
        "    stem = stemmer.stem(file[i])\n",
        "    file[i] = stem\n",
        "  return file"
      ]
    },
    {
      "cell_type": "code",
      "execution_count": null,
      "metadata": {
        "colab": {
          "base_uri": "https://localhost:8080/"
        },
        "id": "oH7JOhCQ1lRD",
        "outputId": "0274ead9-74ed-4af3-ead6-e297ada28735"
      },
      "outputs": [
        {
          "output_type": "stream",
          "name": "stdout",
          "text": [
            "1149\n"
          ]
        },
        {
          "output_type": "stream",
          "name": "stderr",
          "text": [
            "IOPub data rate exceeded.\n",
            "The notebook server will temporarily stop sending output\n",
            "to the client in order to avoid crashing it.\n",
            "To change this limit, set the config variable\n",
            "`--NotebookApp.iopub_data_rate_limit`.\n",
            "\n",
            "Current values:\n",
            "NotebookApp.iopub_data_rate_limit=1000000.0 (bytes/sec)\n",
            "NotebookApp.rate_limit_window=3.0 (secs)\n",
            "\n"
          ]
        }
      ],
      "source": [
        "words=[]\n",
        "documentID = []\n",
        "docID = 0;\n",
        "for filename in glob.glob(os.path.join(path+\"/\", '*')):\n",
        "  documentID.append(docID)\n",
        "  f=open(filename,'r',errors='ignore')\n",
        "  content=f.read()\n",
        "  content = lower_case(content)\n",
        "  content=tokenizeReg(content)\n",
        "  content = [word for word in content if word.isalpha()]\n",
        "  new_data = [word for word in content if not word.isdigit()]\n",
        "  new_data=lemmatization(new_data)\n",
        "  new_data=stop_word(new_data)\n",
        "  content=set(new_data)\n",
        "  content=list(content)\n",
        "  for i in range(0,len(content)):\n",
        "    word = content[i]\n",
        "    id = docID\n",
        "    pair = []\n",
        "    pair.append(word)\n",
        "    pair.append(id)\n",
        "    words.append(pair)\n",
        "  docID += 1\n",
        "print(docID)\n",
        "print(words)"
      ]
    },
    {
      "cell_type": "code",
      "source": [
        "from operator import itemgetter\n",
        "sortedList = sorted(words, key=itemgetter(0,1))"
      ],
      "metadata": {
        "id": "oLH-4L5OA1p2"
      },
      "execution_count": null,
      "outputs": []
    },
    {
      "cell_type": "code",
      "source": [
        "finalDict={}\n",
        "for i in sortedList:\n",
        "    index = i[0]\n",
        "    docId = i[1]\n",
        "    if(index not in finalDict.keys()):\n",
        "        finalDict[index] = []\n",
        "        docfreq = 1\n",
        "        finalDict[index].append(docfreq)\n",
        "        docs=[docId]\n",
        "        finalDict[index].append(docs)\n",
        "    else:\n",
        "        finalDict.get(index)[1].append(docId)\n",
        "        finalDict.get(index)[0]=len(finalDict.get(index)[1])"
      ],
      "metadata": {
        "id": "25vNhn2ZBEL5"
      },
      "execution_count": null,
      "outputs": []
    },
    {
      "cell_type": "markdown",
      "source": [
        "### **PART-C**"
      ],
      "metadata": {
        "id": "3leAyf4uZ8QF"
      }
    },
    {
      "cell_type": "code",
      "source": [
        "def OR(input1, input2):\n",
        "    if type(input1) == str:\n",
        "      input1 = finalDict.get(input1)\n",
        "      input1 = set(input1[1])\n",
        "    elif type(input1) == list:\n",
        "      input1 = set(input1)\n",
        "\n",
        "    if type(input2) == str:\n",
        "      input2 = finalDict.get(input2)\n",
        "      input2 = set(input2[1])\n",
        "    elif type(input2) == list:\n",
        "      input2 = set(input2)\n",
        "    \n",
        "    print('\\nDocuments retrieved are:',input1.union(input2))\n",
        "    print('\\nNo. of documents retrieved after performing OR operation:',len(input1.union(input2)))\n",
        "\n",
        "\n",
        "def AND(input1, input2):\n",
        "\n",
        "    if type(input1) == str:\n",
        "      input1 = finalDict.get(input1)\n",
        "      input1 = set(input1[1])\n",
        "    elif type(input1) == list:\n",
        "      input1 = set(input1)\n",
        "\n",
        "    if type(input2) == str:\n",
        "      input2 = finalDict.get(input2)\n",
        "      input2 = set(input2[1])\n",
        "    elif type(input2) == list:\n",
        "      input2 = set(input2)\n",
        "    \n",
        "    print('\\nDocuments retrieved are:',input1.intersection(input2))\n",
        "    print('\\nNo. of documents retrieved after performing AND operation:',len(input1.intersection(input2)))\n",
        "\n",
        "\n",
        "\n",
        "\n",
        "\n",
        "def ANDNOT(input1, input2):\n",
        "    \n",
        "    if type(input1) == str:\n",
        "      input1 = finalDict.get(input1)\n",
        "      input1 = set(input1[1])\n",
        "    elif type(input1) == list:\n",
        "      input1 = set(input1)\n",
        "\n",
        "    if type(input2) == str:\n",
        "      input2 = finalDict.get(input2)\n",
        "      input2 = set(input2[1])\n",
        "    elif type(input2) == list:\n",
        "      input2 = set(input2)\n",
        "    \n",
        "    print('\\nDocuments retrieved are:',input1.difference(input2))\n",
        "    print('\\nNo. of documents retrieved after performing ANDNOT operation:',len(input1.difference(input2)))\n",
        "    \n",
        "\n",
        "\n",
        "def ORNOT(input1, input2):\n",
        "    \n",
        "    if type(input1) == str:\n",
        "      input1 = finalDict.get(input1)\n",
        "      input1 = set(input1[1])\n",
        "    elif type(input1) == list:\n",
        "      input1 = set(input1)\n",
        "\n",
        "    if type(input2) == str:\n",
        "      input2 = finalDict.get(input2)\n",
        "      input2 = set(input2[1])\n",
        "    elif type(input2) == list:\n",
        "      input2 = set(input2)\n",
        "\n",
        "    uni_set = set(documentID)\n",
        "    \n",
        "    print('\\nDocuments retrieved are:',uni_set.difference(input2.difference(input1)))\n",
        "    print('\\nNo. of documents retrieved after performing ORNOT operation:',len(uni_set.difference(input2.difference(input1))))\n"
      ],
      "metadata": {
        "id": "u09OZmtTCFku"
      },
      "execution_count": null,
      "outputs": []
    },
    {
      "cell_type": "code",
      "source": [
        "def preProcessing(term):\n",
        "    term = lower_case(term)\n",
        "    term = tokenizeReg(term)\n",
        "    term = lemmatization(term)\n",
        "    term = stop_word(term)\n",
        "    return term[0]"
      ],
      "metadata": {
        "id": "T6vVxVQPCO9m"
      },
      "execution_count": null,
      "outputs": []
    },
    {
      "cell_type": "code",
      "source": [
        "def preProcessing2(term):\n",
        "    term = lower_case(term)\n",
        "    term = tokenizeReg(term)\n",
        "    term = lemmatization(term)\n",
        "    term = stop_word(term)\n",
        "    return term"
      ],
      "metadata": {
        "id": "JFSZwTNJZtHL"
      },
      "execution_count": null,
      "outputs": []
    },
    {
      "cell_type": "code",
      "source": [
        "input1 = str(input('Enter input1:'))\n",
        "input2 = str(input('Enter input2:'))\n",
        "\n",
        "input1 = preProcessing(input1)\n",
        "input2 = preProcessing(input2)\n",
        "    \n",
        "\n",
        "OR(input1, input2)\n",
        "AND(input1, input2)\n",
        "ANDNOT(input1, input2)\n",
        "ORNOT(input1, input2)"
      ],
      "metadata": {
        "colab": {
          "base_uri": "https://localhost:8080/"
        },
        "id": "cg8Kgr1g4S5B",
        "outputId": "98d73d44-b60e-4ccb-c813-3d38dc2e4b23"
      },
      "execution_count": null,
      "outputs": [
        {
          "output_type": "stream",
          "name": "stdout",
          "text": [
            "Enter input1:God\n",
            "Enter input2:Great\n",
            "\n",
            "Documents retrieved are: {5, 7, 9, 10, 12, 13, 15, 16, 18, 19, 21, 23, 24, 28, 29, 36, 38, 40, 42, 43, 44, 45, 46, 53, 54, 55, 56, 57, 58, 60, 66, 68, 70, 71, 73, 75, 80, 83, 86, 88, 93, 94, 95, 97, 100, 101, 102, 104, 113, 114, 117, 118, 121, 122, 126, 127, 129, 130, 134, 138, 140, 141, 142, 146, 147, 148, 149, 157, 161, 163, 165, 166, 169, 170, 171, 173, 175, 179, 182, 187, 190, 194, 195, 196, 204, 207, 210, 211, 216, 217, 218, 220, 222, 225, 227, 229, 230, 232, 234, 235, 236, 238, 239, 240, 241, 245, 248, 250, 253, 254, 256, 257, 259, 263, 266, 267, 268, 277, 278, 279, 280, 281, 283, 284, 285, 290, 294, 295, 297, 300, 306, 310, 313, 316, 317, 320, 321, 324, 329, 330, 334, 340, 343, 345, 348, 354, 355, 359, 365, 370, 372, 378, 381, 385, 386, 392, 395, 396, 399, 401, 404, 410, 411, 412, 416, 419, 420, 427, 428, 429, 430, 431, 432, 434, 438, 441, 443, 447, 451, 455, 456, 457, 460, 461, 468, 469, 470, 472, 474, 478, 479, 484, 485, 491, 493, 498, 499, 501, 507, 510, 512, 515, 520, 521, 522, 526, 527, 528, 532, 534, 537, 542, 544, 545, 546, 547, 554, 556, 559, 560, 561, 563, 564, 566, 569, 570, 573, 574, 576, 578, 582, 583, 585, 589, 591, 593, 594, 596, 597, 600, 603, 606, 607, 608, 617, 619, 623, 625, 633, 637, 641, 643, 650, 651, 655, 656, 657, 658, 661, 663, 667, 674, 678, 680, 681, 684, 686, 687, 689, 697, 699, 705, 707, 709, 714, 722, 728, 730, 731, 732, 733, 735, 739, 740, 741, 743, 749, 752, 755, 756, 758, 760, 763, 765, 767, 768, 769, 771, 777, 778, 784, 785, 786, 787, 790, 792, 794, 795, 796, 799, 802, 803, 805, 806, 811, 812, 815, 822, 827, 832, 834, 835, 838, 840, 843, 845, 848, 852, 853, 855, 859, 867, 870, 871, 873, 874, 877, 879, 882, 886, 887, 890, 891, 892, 896, 903, 906, 907, 908, 911, 912, 916, 918, 922, 923, 924, 929, 931, 933, 934, 935, 936, 937, 938, 940, 942, 943, 946, 947, 948, 951, 954, 960, 961, 963, 965, 966, 972, 974, 975, 976, 977, 978, 980, 981, 984, 985, 986, 987, 989, 993, 995, 996, 998, 1001, 1004, 1005, 1007, 1010, 1015, 1018, 1019, 1020, 1021, 1022, 1023, 1026, 1027, 1028, 1029, 1030, 1031, 1032, 1037, 1039, 1040, 1041, 1044, 1046, 1050, 1051, 1054, 1055, 1060, 1061, 1068, 1073, 1074, 1076, 1077, 1079, 1080, 1081, 1083, 1085, 1086, 1087, 1089, 1090, 1091, 1092, 1096, 1097, 1098, 1106, 1107, 1108, 1109, 1115, 1118, 1119, 1127, 1130, 1133, 1135, 1137, 1139, 1144}\n",
            "\n",
            "No. of documents retrieved after performing OR operation: 458\n",
            "\n",
            "Documents retrieved are: {512, 1026, 1029, 520, 521, 1037, 527, 1040, 18, 19, 21, 1046, 1054, 542, 547, 1061, 554, 43, 556, 1073, 1074, 563, 53, 54, 56, 57, 1083, 60, 574, 1086, 576, 1090, 1092, 1097, 75, 1106, 1107, 597, 607, 97, 101, 102, 121, 651, 141, 657, 658, 149, 157, 166, 170, 173, 686, 687, 187, 699, 709, 211, 217, 227, 229, 235, 236, 756, 254, 767, 256, 769, 259, 778, 268, 784, 785, 792, 795, 796, 285, 799, 803, 806, 812, 306, 827, 834, 835, 840, 330, 843, 848, 340, 853, 855, 355, 870, 359, 873, 874, 365, 879, 378, 890, 903, 399, 404, 412, 924, 416, 419, 931, 940, 430, 942, 432, 943, 946, 438, 951, 443, 961, 456, 457, 972, 976, 977, 980, 469, 470, 479, 996, 998, 1004, 1005, 499, 1019}\n",
            "\n",
            "No. of documents retrieved after performing AND operation: 134\n",
            "\n",
            "Documents retrieved are: {1027, 5, 23, 537, 36, 42, 44, 561, 58, 573, 1087, 68, 73, 593, 83, 1108, 603, 93, 608, 100, 1127, 619, 1137, 114, 1139, 117, 643, 134, 147, 148, 161, 689, 190, 194, 207, 210, 735, 740, 238, 240, 760, 248, 250, 763, 765, 257, 263, 284, 294, 297, 811, 310, 822, 316, 321, 324, 329, 334, 345, 871, 877, 392, 923, 935, 428, 947, 954, 963, 965, 966, 455, 461, 975, 468, 474, 993, 485, 1018, 1023}\n",
            "\n",
            "No. of documents retrieved after performing ANDNOT operation: 79\n",
            "\n",
            "Documents retrieved are: {0, 1, 2, 3, 4, 5, 6, 8, 11, 14, 17, 18, 19, 20, 21, 22, 23, 25, 26, 27, 30, 31, 32, 33, 34, 35, 36, 37, 39, 41, 42, 43, 44, 47, 48, 49, 50, 51, 52, 53, 54, 56, 57, 58, 59, 60, 61, 62, 63, 64, 65, 67, 68, 69, 72, 73, 74, 75, 76, 77, 78, 79, 81, 82, 83, 84, 85, 87, 89, 90, 91, 92, 93, 96, 97, 98, 99, 100, 101, 102, 103, 105, 106, 107, 108, 109, 110, 111, 112, 114, 115, 116, 117, 119, 120, 121, 123, 124, 125, 128, 131, 132, 133, 134, 135, 136, 137, 139, 141, 143, 144, 145, 147, 148, 149, 150, 151, 152, 153, 154, 155, 156, 157, 158, 159, 160, 161, 162, 164, 166, 167, 168, 170, 172, 173, 174, 176, 177, 178, 180, 181, 183, 184, 185, 186, 187, 188, 189, 190, 191, 192, 193, 194, 197, 198, 199, 200, 201, 202, 203, 205, 206, 207, 208, 209, 210, 211, 212, 213, 214, 215, 217, 219, 221, 223, 224, 226, 227, 228, 229, 231, 233, 235, 236, 237, 238, 240, 242, 243, 244, 246, 247, 248, 249, 250, 251, 252, 254, 255, 256, 257, 258, 259, 260, 261, 262, 263, 264, 265, 268, 269, 270, 271, 272, 273, 274, 275, 276, 282, 284, 285, 286, 287, 288, 289, 291, 292, 293, 294, 296, 297, 298, 299, 301, 302, 303, 304, 305, 306, 307, 308, 309, 310, 311, 312, 314, 315, 316, 318, 319, 321, 322, 323, 324, 325, 326, 327, 328, 329, 330, 331, 332, 333, 334, 335, 336, 337, 338, 339, 340, 341, 342, 344, 345, 346, 347, 349, 350, 351, 352, 353, 355, 356, 357, 358, 359, 360, 361, 362, 363, 364, 365, 366, 367, 368, 369, 371, 373, 374, 375, 376, 377, 378, 379, 380, 382, 383, 384, 387, 388, 389, 390, 391, 392, 393, 394, 397, 398, 399, 400, 402, 403, 404, 405, 406, 407, 408, 409, 412, 413, 414, 415, 416, 417, 418, 419, 421, 422, 423, 424, 425, 426, 428, 430, 432, 433, 435, 436, 437, 438, 439, 440, 442, 443, 444, 445, 446, 448, 449, 450, 452, 453, 454, 455, 456, 457, 458, 459, 461, 462, 463, 464, 465, 466, 467, 468, 469, 470, 471, 473, 474, 475, 476, 477, 479, 480, 481, 482, 483, 485, 486, 487, 488, 489, 490, 492, 494, 495, 496, 497, 499, 500, 502, 503, 504, 505, 506, 508, 509, 511, 512, 513, 514, 516, 517, 518, 519, 520, 521, 523, 524, 525, 527, 529, 530, 531, 533, 535, 536, 537, 538, 539, 540, 541, 542, 543, 547, 548, 549, 550, 551, 552, 553, 554, 555, 556, 557, 558, 561, 562, 563, 565, 567, 568, 571, 572, 573, 574, 575, 576, 577, 579, 580, 581, 584, 586, 587, 588, 590, 592, 593, 595, 597, 598, 599, 601, 602, 603, 604, 605, 607, 608, 609, 610, 611, 612, 613, 614, 615, 616, 618, 619, 620, 621, 622, 624, 626, 627, 628, 629, 630, 631, 632, 634, 635, 636, 638, 639, 640, 642, 643, 644, 645, 646, 647, 648, 649, 651, 652, 653, 654, 657, 658, 659, 660, 662, 664, 665, 666, 668, 669, 670, 671, 672, 673, 675, 676, 677, 679, 682, 683, 685, 686, 687, 688, 689, 690, 691, 692, 693, 694, 695, 696, 698, 699, 700, 701, 702, 703, 704, 706, 708, 709, 710, 711, 712, 713, 715, 716, 717, 718, 719, 720, 721, 723, 724, 725, 726, 727, 729, 734, 735, 736, 737, 738, 740, 742, 744, 745, 746, 747, 748, 750, 751, 753, 754, 756, 757, 759, 760, 761, 762, 763, 764, 765, 766, 767, 769, 770, 772, 773, 774, 775, 776, 778, 779, 780, 781, 782, 783, 784, 785, 788, 789, 791, 792, 793, 795, 796, 797, 798, 799, 800, 801, 803, 804, 806, 807, 808, 809, 810, 811, 812, 813, 814, 816, 817, 818, 819, 820, 821, 822, 823, 824, 825, 826, 827, 828, 829, 830, 831, 833, 834, 835, 836, 837, 839, 840, 841, 842, 843, 844, 846, 847, 848, 849, 850, 851, 853, 854, 855, 856, 857, 858, 860, 861, 862, 863, 864, 865, 866, 868, 869, 870, 871, 872, 873, 874, 875, 876, 877, 878, 879, 880, 881, 883, 884, 885, 888, 889, 890, 893, 894, 895, 897, 898, 899, 900, 901, 902, 903, 904, 905, 909, 910, 913, 914, 915, 917, 919, 920, 921, 923, 924, 925, 926, 927, 928, 930, 931, 932, 935, 939, 940, 941, 942, 943, 944, 945, 946, 947, 949, 950, 951, 952, 953, 954, 955, 956, 957, 958, 959, 961, 962, 963, 964, 965, 966, 967, 968, 969, 970, 971, 972, 973, 975, 976, 977, 979, 980, 982, 983, 988, 990, 991, 992, 993, 994, 996, 997, 998, 999, 1000, 1002, 1003, 1004, 1005, 1006, 1008, 1009, 1011, 1012, 1013, 1014, 1016, 1017, 1018, 1019, 1023, 1024, 1025, 1026, 1027, 1029, 1033, 1034, 1035, 1036, 1037, 1038, 1040, 1042, 1043, 1045, 1046, 1047, 1048, 1049, 1052, 1053, 1054, 1056, 1057, 1058, 1059, 1061, 1062, 1063, 1064, 1065, 1066, 1067, 1069, 1070, 1071, 1072, 1073, 1074, 1075, 1078, 1082, 1083, 1084, 1086, 1087, 1088, 1090, 1092, 1093, 1094, 1095, 1097, 1099, 1100, 1101, 1102, 1103, 1104, 1105, 1106, 1107, 1108, 1110, 1111, 1112, 1113, 1114, 1116, 1117, 1120, 1121, 1122, 1123, 1124, 1125, 1126, 1127, 1128, 1129, 1131, 1132, 1134, 1136, 1137, 1138, 1139, 1140, 1141, 1142, 1143, 1145, 1146, 1147, 1148}\n",
            "\n",
            "No. of documents retrieved after performing ORNOT operation: 904\n"
          ]
        }
      ]
    },
    {
      "cell_type": "markdown",
      "source": [
        "### **PART-D**"
      ],
      "metadata": {
        "id": "q5QsofUwaC-E"
      }
    },
    {
      "cell_type": "code",
      "source": [
        "def part_d(res,op_list):\n",
        "  doc_list = []\n",
        "  for token in res:\n",
        "    doc_list.append(list(set(finalDict.get(token)[1])))\n",
        "  size = len(res)\n",
        "  temp_res = set(doc_list[0])\n",
        "  k=1;\n",
        "  dIds=set(documentID)\n",
        "  universal=set(documentID)\n",
        "  for j in range(len(op_list)):\n",
        "    if k<size:\n",
        "      if op_list[j] == 'OR':\n",
        "        temp_res  = temp_res.union(set(doc_list[k]))\n",
        "      elif op_list[j] == 'AND':\n",
        "        temp_res  = temp_res.intersection(set(doc_list[k]))  \n",
        "      elif op_list[j] == 'AND NOT':\n",
        "        temp_res  = temp_res.difference(set(doc_list[k]))\n",
        "      elif op_list[j] == 'OR NOT':\n",
        "        temp_res  = universal.difference(set(doc_list[k]).difference(temp_res))\n",
        "      k=k+1        \n",
        "  return  temp_res"
      ],
      "metadata": {
        "id": "XO0O6HWD4Mzc"
      },
      "execution_count": null,
      "outputs": []
    },
    {
      "cell_type": "code",
      "source": [
        "def comparizon(input1, input2, operator):\n",
        "  finalList = []\n",
        "  comp = 0;\n",
        "  \n",
        "  if type(input1) == str:\n",
        "    input1 = preProcessing(input1)\n",
        "    input1 = finalDict.get(input1)\n",
        "    input1 = set(input1[1])\n",
        "  elif type(input1) == list:\n",
        "    input1 = set(input1)\n",
        "\n",
        "  if type(input2) == str:\n",
        "      input2 = preProcessing(input2)\n",
        "      input2 = finalDict.get(input2)\n",
        "      input2 = set(input2[1])\n",
        "  elif type(input2) == list:\n",
        "      input2 = set(input2)\n",
        "\n",
        "  if(operator == 'AND'):\n",
        "    localList = []\n",
        "\n",
        "    input1 = list(input1)\n",
        "    input2 = list(input2)\n",
        "    input1.sort()\n",
        "    input2.sort()\n",
        "\n",
        "    i = 0\n",
        "    j = 0\n",
        "\n",
        "    while(i < len(input1) and j < len(input2)):\n",
        "      comp += 1\n",
        "\n",
        "      if input1[i] > input2[j]:\n",
        "        j += 1\n",
        "      elif input1[i] < input2[j]:\n",
        "        i+= 1\n",
        "      else:\n",
        "        localList.append(input1[i])\n",
        "        i += 1\n",
        "        j += 1\n",
        "    finalList = localList\n",
        "    return comp,len(finalList), finalList\n",
        "\n",
        "  if(operator == 'OR'):\n",
        "    localList = []\n",
        "    input1 = list(input1)\n",
        "    input2 = list(input2)\n",
        "    input1.sort()\n",
        "    input2.sort()\n",
        "\n",
        "    i = 0\n",
        "    j = 0\n",
        "\n",
        "    while(i < len(input1) and j < len(input2)):\n",
        "      comp += 1\n",
        "\n",
        "      if input1[i] > input2[j]:\n",
        "        localList.append(input2[j])\n",
        "        j += 1\n",
        "      elif input1[i] < input2[j]:\n",
        "        localList.append(input1[i])\n",
        "        i+= 1\n",
        "      else:\n",
        "        localList.append(input1[i])\n",
        "        i += 1\n",
        "        j += 1\n",
        "    while(i < len(input1)):\n",
        "      localList.append(input1[i])\n",
        "      i += 1\n",
        "    while(j < len(input2)):\n",
        "      localList.append(input2[j])\n",
        "      j += 1\n",
        "    finalList = localList\n",
        "    return comp,len(finalList), finalList\n",
        "  if(operator == 'ANDNOT'):\n",
        "    localList = []\n",
        "    uniset = set(documentID)\n",
        "\n",
        "    input2 = uniset - input2\n",
        "\n",
        "    input1 = list(input1)\n",
        "    input2 = list(input2)\n",
        "    input1.sort()\n",
        "    input2.sort()\n",
        "\n",
        "    i = 0\n",
        "    j = 0\n",
        "\n",
        "    while(i < len(input1) and j < len(input2)):\n",
        "      comp += 1\n",
        "\n",
        "      if input1[i] > input2[j]:\n",
        "        j += 1\n",
        "      elif input1[i] < input2[j]:\n",
        "        i+= 1\n",
        "      else:\n",
        "        localList.append(input1[i])\n",
        "        i += 1\n",
        "        j += 1\n",
        "    finalList = localList\n",
        "    return comp,len(finalList), finalList\n",
        "  if(operator == 'ORNOT'):\n",
        "    localList = []\n",
        "    uniset = set(documentID)\n",
        "    input2 = uniset - input2\n",
        "\n",
        "    input1 = list(input1)\n",
        "    input2 = list(input2)\n",
        "    input1.sort()\n",
        "    input2.sort()\n",
        "\n",
        "    i = 0\n",
        "    j = 0\n",
        "\n",
        "    while(i < len(input1) and j < len(input2)):\n",
        "      comp += 1\n",
        "\n",
        "      if input1[i] > input2[j]:\n",
        "        localList.append(input2[j])\n",
        "        j += 1\n",
        "      elif input1[i] < input2[j]:\n",
        "        localList.append(input1[i])\n",
        "        i+= 1\n",
        "      else:\n",
        "        localList.append(input1[i])\n",
        "        i += 1\n",
        "        j += 1\n",
        "    while(i < len(input1)):\n",
        "      localList.append(input1[i])\n",
        "      i += 1\n",
        "    while(j < len(input2)):\n",
        "      localList.append(input2[j])\n",
        "      j += 1\n",
        "    finalList = localList\n",
        "    return comp,len(finalList), finalList"
      ],
      "metadata": {
        "id": "j5YnLzsauUvo"
      },
      "execution_count": null,
      "outputs": []
    },
    {
      "cell_type": "code",
      "source": [
        "def part_d_updated(res,op_list):\n",
        "  comp=0\n",
        "  size = len(res)\n",
        "  temp_list=[]\n",
        "  k=1;\n",
        "  for j in range(len(op_list)):\n",
        "    if j == 0:\n",
        "      if k<size:\n",
        "        comp,list_count,temp_list = comparizon(res[0],res[k],op_list[j])\n",
        "    else:\n",
        "      if k<size:\n",
        "        temp_comp_val,list_count,temp_list = comparizon(temp_list,res[k],op_list[j])\n",
        "        comp+=temp_comp_val\n",
        "    k+=1     \n",
        "  return  comp,len(temp_list),temp_list"
      ],
      "metadata": {
        "id": "6_ArcBFuJ98e"
      },
      "execution_count": null,
      "outputs": []
    },
    {
      "cell_type": "code",
      "source": [
        "n = int(input('Enter value of n: '))\n",
        "for i in range(0,n):\n",
        "  query = str(input('Enter query:'))\n",
        "  operation = str(input('Enter operations:'))\n",
        "  res = preProcessing2(query)\n",
        "  op_list= operation.split(',')\n",
        "  comp,len_list,final_output = part_d_updated(res,op_list)\n",
        "  print(\"Documenets retrieved are:  \",final_output)\n",
        "  print(\"No. of comparisons performed:  \",comp)\n",
        "  print(\"No. of documents retrieved are:  \", len_list)"
      ],
      "metadata": {
        "colab": {
          "base_uri": "https://localhost:8080/"
        },
        "id": "MVAJRGSj4O2a",
        "outputId": "db0c9182-a58e-4870-d013-5c2263778965"
      },
      "execution_count": null,
      "outputs": [
        {
          "output_type": "stream",
          "name": "stdout",
          "text": [
            "Enter value of n: 1\n",
            "Enter query:lion stood thoughtfully for a moment\n",
            "Enter operations:OR,OR,OR\n",
            "Documenets retrieved are:   [8, 10, 17, 21, 25, 39, 43, 45, 46, 49, 57, 58, 65, 66, 67, 69, 73, 78, 86, 90, 94, 96, 102, 107, 111, 112, 115, 118, 119, 121, 126, 127, 129, 130, 131, 135, 140, 154, 159, 162, 167, 168, 174, 176, 179, 191, 194, 195, 197, 198, 209, 212, 213, 216, 224, 241, 244, 245, 249, 250, 256, 260, 263, 264, 265, 272, 275, 276, 278, 281, 294, 296, 300, 317, 319, 320, 322, 328, 334, 342, 360, 363, 367, 372, 375, 376, 384, 410, 419, 421, 426, 433, 439, 450, 451, 456, 458, 460, 462, 466, 489, 493, 498, 503, 504, 506, 528, 535, 538, 546, 548, 549, 554, 567, 568, 569, 577, 578, 585, 591, 592, 596, 601, 612, 620, 623, 629, 633, 634, 636, 640, 643, 644, 649, 650, 655, 657, 660, 670, 674, 678, 681, 685, 688, 690, 694, 696, 701, 702, 703, 705, 709, 713, 726, 730, 735, 740, 747, 751, 754, 768, 775, 777, 778, 779, 790, 794, 814, 815, 825, 876, 879, 916, 923, 927, 930, 939, 953, 954, 959, 963, 972, 973, 974, 976, 978, 980, 991, 993, 995, 1010, 1011, 1017, 1019, 1024, 1029, 1033, 1038, 1043, 1061, 1064, 1069, 1084, 1093, 1097, 1100, 1103, 1105, 1106, 1116, 1130]\n",
            "No. of comparisons performed:   338\n",
            "No. of documents retrieved are:   211\n"
          ]
        }
      ]
    }
  ],
  "metadata": {
    "colab": {
      "name": "IR_Assignement1_Q1.ipynb",
      "provenance": [],
      "collapsed_sections": []
    },
    "kernelspec": {
      "display_name": "Python 3",
      "name": "python3"
    },
    "language_info": {
      "name": "python"
    }
  },
  "nbformat": 4,
  "nbformat_minor": 0
}